{
  "cells": [
    {
      "cell_type": "code",
      "execution_count": null,
      "metadata": {
        "id": "fHhuJ_eHoRrZ"
      },
      "outputs": [],
      "source": [
        "!pip install noisereduce"
      ]
    },
    {
      "cell_type": "code",
      "execution_count": null,
      "metadata": {
        "id": "aPT6TCMRoboD"
      },
      "outputs": [],
      "source": [
        "!pip install pydub"
      ]
    },
    {
      "cell_type": "code",
      "execution_count": null,
      "metadata": {
        "id": "fAlU5nW7jOFK"
      },
      "outputs": [],
      "source": [
        "import os\n",
        "import librosa\n",
        "import pandas as pd\n",
        "import numpy as np\n",
        "from sklearn.preprocessing import StandardScaler\n",
        "from sklearn.decomposition import PCA\n",
        "from sklearn.model_selection import train_test_split\n",
        "from scipy.signal import welch, butter, lfilter\n",
        "import noisereduce as nr\n",
        "from pydub import AudioSegment\n",
        "from pydub.effects import normalize"
      ]
    },
    {
      "cell_type": "code",
      "execution_count": null,
      "metadata": {
        "id": "OIEQl1yzsxnr"
      },
      "outputs": [],
      "source": [
        "def reduce_noise(audio, sample_rate):\n",
        "  return nr.reduce_noise(y=audio, sr=sample_rate)"
      ]
    },
    {
      "cell_type": "code",
      "execution_count": null,
      "metadata": {
        "id": "sEhh0j6yjrfF"
      },
      "outputs": [],
      "source": [
        "# Функция для извлечения признаков\n",
        "def extract_features(audio, sample_rate, channel):\n",
        "  if channel is None:\n",
        "    # моно\n",
        "    audio = audio.mean(axis=0)\n",
        "  elif channel < audio.shape[0]:\n",
        "    # иначе извлекаем канал\n",
        "    audio = audio[channel]\n",
        "\n",
        "  # Удаление шума\n",
        "  audio = reduce_noise(audio=audio, sample_rate=sample_rate)\n",
        "\n",
        "  # Извлечение мелспектрограммы\n",
        "  mel_spectrogram = librosa.feature.melspectrogram(y=audio, sr=sample_rate, n_mels=40, fmax=8000)\n",
        "  mel_spectrogram_db = librosa.power_to_db(mel_spectrogram, ref=np.max)\n",
        "  mel_features = np.mean(mel_spectrogram_db.T, axis=0)\n",
        "\n",
        "  # Извлечение спектра Уэльса (PSD)\n",
        "  freqs, psd = welch(audio, fs=sample_rate)\n",
        "\n",
        "  # Объединение признаков в один вектор\n",
        "  combined_features = np.hstack((mel_features, psd))\n",
        "\n",
        "  return combined_features"
      ]
    },
    {
      "cell_type": "markdown",
      "metadata": {
        "id": "cOZyHhrTvKjT"
      },
      "source": [
        "# Парсинг данных"
      ]
    },
    {
      "cell_type": "markdown",
      "metadata": {},
      "source": [
        "Оригинальные данные имеют следующую файловую структуру"
      ]
    },
    {
      "cell_type": "markdown",
      "metadata": {},
      "source": [
        "![Файловая структура](files.jpg \"Файловая структура\")"
      ]
    },
    {
      "cell_type": "markdown",
      "metadata": {},
      "source": [
        "Рассмотрев статью от создателей датасета https://arxiv.org/pdf/1909.09347, мы выяснили, что звук в датасете восьмиканальный, собранный с восьми микрофонов, расположенных по кругу на расстоянии 45 градусов между друг другом. В этой же статье было приведено положение определяемых нами объектов в пространстве. Благодаря этому мы смогли найти микрофон, а соответственно и канал наиболее близкий к каждому объекту, что позволило получить лучшее качество звука и модели. \n",
        "\n",
        "Таким образом, клапану соответствует канал 0, насосу - 2, вентилятору - 4, направляющей - 6."
      ]
    },
    {
      "cell_type": "code",
      "execution_count": null,
      "metadata": {},
      "outputs": [],
      "source": [
        "root_dir = 'data'\n",
        "\n",
        "data = []\n",
        "\n",
        "name_mapping = {\n",
        "  'valve': 0,\n",
        "  'pump': 2,\n",
        "  'fan': 4,\n",
        "  'slider': 6\n",
        "}"
      ]
    },
    {
      "cell_type": "markdown",
      "metadata": {},
      "source": [
        "Парсер выделяет в данных следующие поля:\n",
        "\n",
        "- db - значение децибел, при котором был записан звук\n",
        "- chanel - канал, соответствующий типу оборудования\n",
        "- id - идентификатор звука\n",
        "- is_norm - является ли звук номальным или аномальным (1 или 0)\n",
        "- file_name - название .wav файла\n",
        "- mel_[i] - 40 признаков звука, выделенные с помощью мелспектрограмм\n",
        "- psd_[i] - 129 признаков, выделенные с помощью спектра Уэльса"
      ]
    },
    {
      "cell_type": "code",
      "execution_count": null,
      "metadata": {
        "colab": {
          "base_uri": "https://localhost:8080/",
          "height": 161
        },
        "id": "pwYzxKqlGkQ_",
        "outputId": "0d160f77-785c-431c-837e-7fe00e0b8403"
      },
      "outputs": [],
      "source": [
        "# Прасинг данных с монозвуком\n",
        "\n",
        "for db in os.listdir(root_dir):\n",
        "  db_path = os.path.join(root_dir, db)\n",
        "  if os.path.isdir(db_path):\n",
        "    for name in os.listdir(db_path):\n",
        "      name_path = os.path.join(db_path, name)\n",
        "      if os.path.isdir(name_path):\n",
        "        for id_ in os.listdir(name_path):\n",
        "          id_path = os.path.join(name_path, id_)\n",
        "          if os.path.isdir(id_path):\n",
        "            for norm in os.listdir(id_path):\n",
        "              norm_path = os.path.join(id_path, norm)\n",
        "              if os.path.isdir(norm_path):\n",
        "                for fn in os.listdir(norm_path):\n",
        "                  if fn.endswith('.wav'):\n",
        "                    is_norm_value = 0 if norm == 'abnormal' else 1\n",
        "                    file_path = os.path.join(norm_path, fn)\n",
        "                    features = extract_features(file_path)\n",
        "                    data.append({\n",
        "                      'db': db,\n",
        "                      'chanel': name_mapping.get(name, name),\n",
        "                      'id': id_,\n",
        "                      'is_norm': is_norm_value,\n",
        "                      'file_name': fn,\n",
        "                      **{f'mel{i+1}': features[i] for i in range(len(features)-1)},\n",
        "                      'psd': features[-1]\n",
        "                    })\n",
        "\n",
        "df = pd.DataFrame(data)\n",
        "\n",
        "df.to_csv('data_mono.csv', index=False)"
      ]
    },
    {
      "cell_type": "code",
      "execution_count": null,
      "metadata": {
        "id": "9794NSMOIdDj"
      },
      "outputs": [],
      "source": [
        "# Прасинг данных с выделением для каждого типа оборудования только соответствующего кананла\n",
        " \n",
        "for db in os.listdir(root_dir):\n",
        "  db_path = os.path.join(root_dir, db)\n",
        "  if os.path.isdir(db_path):\n",
        "    for name in os.listdir(db_path):\n",
        "      name_path = os.path.join(db_path, name)\n",
        "      if os.path.isdir(name_path):\n",
        "        for id_ in os.listdir(name_path):\n",
        "          id_path = os.path.join(name_path, id_)\n",
        "          if os.path.isdir(id_path):\n",
        "            for norm in os.listdir(id_path):\n",
        "              norm_path = os.path.join(id_path, norm)\n",
        "              if os.path.isdir(norm_path):\n",
        "                for fn in os.listdir(norm_path):\n",
        "                  if fn.endswith('.wav'):\n",
        "                    is_norm_value = 0 if norm == 'abnormal' else 1\n",
        "                    file_path = os.path.join(norm_path, fn)\n",
        "                    chanel = name_mapping.get(name, name)\n",
        "                    features = extract_features(file_path, chanel)\n",
        "                    data.append({\n",
        "                      'db': db,\n",
        "                      'chanel': chanel,\n",
        "                      'id': id_,\n",
        "                      'is_norm': is_norm_value,\n",
        "                      'file_name': fn,\n",
        "                      **{f'mel{i+1}': features[i] for i in range(len(features)-1)},\n",
        "                      'psd': features[-1]\n",
        "                    })\n",
        "\n",
        "df = pd.DataFrame(data)\n",
        "\n",
        "df.to_csv('data_stereo.csv', index=False)"
      ]
    }
  ],
  "metadata": {
    "colab": {
      "provenance": []
    },
    "kernelspec": {
      "display_name": "Python 3",
      "name": "python3"
    },
    "language_info": {
      "name": "python"
    }
  },
  "nbformat": 4,
  "nbformat_minor": 0
}
